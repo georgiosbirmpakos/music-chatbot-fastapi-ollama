{
 "cells": [
  {
   "cell_type": "code",
   "execution_count": null,
   "id": "78512449",
   "metadata": {},
   "outputs": [
    {
     "name": "stdout",
     "output_type": "stream",
     "text": [
      "✅ Valid Titles: ['Iron Maiden - Run to the Hills', 'Def Leppard - Pour Some Love on Me', 'Dokken - Dream Anna', 'Scorpions - Rock You Like a Hurricane', 'Dio - Holy Roller', 'Raven - Candlelight Burning']\n",
      "❌ Hallucinated Titles: ['Mötley Crue - Girls, Girls, Girls', 'Guns N’ Roses - Sweet Child o’ Mine', 'Winger - Sunday Morning', 'Saxon - Witch Hunter']\n"
     ]
    }
   ],
   "source": [
    "#TODO\n",
    "from typing import Annotated, TypedDict, List\n",
    "from langgraph.graph import StateGraph, START, END\n",
    "from langgraph.graph.message import add_messages\n",
    "from langchain_community.chat_models import ChatOllama\n",
    "from langchain_core.messages import AIMessage, HumanMessage\n",
    "from langchain_core.prompts import PromptTemplate\n",
    "from yt_dlp import YoutubeDL\n",
    "import re\n",
    "\n",
    "# Define the graph state\n",
    "class State(TypedDict):\n",
    "    messages: Annotated[List, add_messages]\n",
    "    valid_titles: List[str]\n",
    "    invalid_titles: List[str]\n",
    "\n",
    "graph_builder = StateGraph(State)\n",
    "\n",
    "# Initialize LLM\n",
    "llm = ChatOllama(model=\"gemma3:4b\")\n",
    "\n",
    "def get_song_suggestions(state: State) -> dict:\n",
    "    prompt_template_path = \"prompts/suggest_songs.txt\"\n",
    "    with open(prompt_template_path, \"r\", encoding=\"utf-8\") as file:\n",
    "        raw_prompt = file.read()\n",
    "\n",
    "    prompt = PromptTemplate.from_template(raw_prompt)\n",
    "    formatted_prompt = prompt.format(mood=state[\"messages\"][-1].content)\n",
    "    response = llm.invoke([HumanMessage(content=formatted_prompt)])\n",
    "    return {\"messages\": [AIMessage(content=response.content)]}\n",
    "\n",
    "def validate_titles(state: State) -> dict:\n",
    "    suggestions = state[\"messages\"][-1].content\n",
    "    pattern = re.compile(r'\\d+\\.\\s*(.+?)\\s*-\\s*(.+)')\n",
    "    lines = suggestions.strip().splitlines()\n",
    "\n",
    "    valid, invalid = [], []\n",
    "    for line in lines:\n",
    "        match = pattern.search(line)\n",
    "        if not match:\n",
    "            continue\n",
    "        artist, title = match.groups()\n",
    "        full_title = f\"{artist.strip()} - {title.strip()}\"\n",
    "        if is_title_plausible(full_title):\n",
    "            valid.append(full_title)\n",
    "        else:\n",
    "            invalid.append(full_title)\n",
    "    return {\"valid_titles\": valid, \"invalid_titles\": invalid}\n",
    "\n",
    "def is_title_plausible(song_title: str) -> bool:\n",
    "    opts = {\n",
    "        \"quiet\": True,\n",
    "        \"default_search\": \"ytsearch1\",\n",
    "        \"noplaylist\": True,\n",
    "        \"skip_download\": True,\n",
    "    }\n",
    "    try:\n",
    "        with YoutubeDL(opts) as ydl:\n",
    "            info = ydl.extract_info(f\"ytsearch:{song_title}\", download=False)\n",
    "            actual_title = info['entries'][0]['title'].lower()\n",
    "            return all(word.lower() in actual_title for word in song_title.split()[:2])\n",
    "    except Exception:\n",
    "        return False\n",
    "\n",
    "# Build the graph\n",
    "graph_builder.add_node(\"suggest_songs\", get_song_suggestions)\n",
    "graph_builder.add_node(\"validate\", validate_titles)\n",
    "graph_builder.add_edge(START, \"suggest_songs\")\n",
    "graph_builder.add_edge(\"suggest_songs\", \"validate\")\n",
    "graph_builder.add_edge(\"validate\", END)\n",
    "chatbot_graph = graph_builder.compile()\n",
    "\n",
    "# Run the graph\n",
    "def run_mood_to_song_graph(user_prompt):\n",
    "    state = {\n",
    "        \"messages\": [{\"role\": \"user\", \"content\": user_prompt}],\n",
    "        \"valid_titles\": [],\n",
    "        \"invalid_titles\": []\n",
    "    }\n",
    "    return chatbot_graph.invoke(state)\n",
    "\n",
    "if __name__ == \"__main__\":\n",
    "    user_input = \"Feeling nostalgic. Can I get 10 emotional 80s metal songs?\"\n",
    "    result = run_mood_to_song_graph(user_input)\n",
    "    print(\"✅ Valid Titles:\", result[\"valid_titles\"])\n",
    "    print(\"❌ Hallucinated Titles:\", result[\"invalid_titles\"])\n"
   ]
  },
  {
   "cell_type": "code",
   "execution_count": 11,
   "id": "6649aeb3",
   "metadata": {},
   "outputs": [
    {
     "data": {
      "image/png": "[encoded data removed]",
      "text/plain": [
       "<langgraph.graph.state.CompiledStateGraph object at 0x000001A44B20DD50>"
      ]
     },
     "execution_count": 11,
     "metadata": {},
     "output_type": "execute_result"
    }
   ],
   "source": [
    "chatbot_graph\n"
   ]
  }
 ],
 "metadata": {
  "kernelspec": {
   "display_name": "music-chatbot",
   "language": "python",
   "name": "python3"
  },
  "language_info": {
   "codemirror_mode": {
    "name": "ipython",
    "version": 3
   },
   "file_extension": ".py",
   "mimetype": "text/x-python",
   "name": "python",
   "nbconvert_exporter": "python",
   "pygments_lexer": "ipython3",
   "version": "3.10.18"
  }
 },
 "nbformat": 4,
 "nbformat_minor": 5
}
